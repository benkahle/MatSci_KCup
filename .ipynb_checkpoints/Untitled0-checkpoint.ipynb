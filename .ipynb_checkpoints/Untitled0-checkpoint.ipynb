{
 "metadata": {
  "name": "",
  "signature": "sha256:62c3f880e3a14fdca0b0a005b4a5e09ef7acc7c2440ad45375d775129ecab369"
 },
 "nbformat": 3,
 "nbformat_minor": 0,
 "worksheets": []
}